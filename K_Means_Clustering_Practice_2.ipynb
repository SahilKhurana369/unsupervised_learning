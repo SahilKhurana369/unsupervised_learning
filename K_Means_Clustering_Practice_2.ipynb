{
  "nbformat": 4,
  "nbformat_minor": 0,
  "metadata": {
    "colab": {
      "provenance": [],
      "authorship_tag": "ABX9TyM04fP2bHdzQ6OuG5W+rIiu",
      "include_colab_link": true
    },
    "kernelspec": {
      "name": "python3",
      "display_name": "Python 3"
    },
    "language_info": {
      "name": "python"
    }
  },
  "cells": [
    {
      "cell_type": "markdown",
      "metadata": {
        "id": "view-in-github",
        "colab_type": "text"
      },
      "source": [
        "<a href=\"https://colab.research.google.com/github/SahilKhurana369/unsupervised_learning/blob/main/K_Means_Clustering_Practice_2.ipynb\" target=\"_parent\"><img src=\"https://colab.research.google.com/assets/colab-badge.svg\" alt=\"Open In Colab\"/></a>"
      ]
    },
    {
      "cell_type": "code",
      "execution_count": null,
      "metadata": {
        "id": "gNiyf4WvjD4p"
      },
      "outputs": [],
      "source": []
    },
    {
      "cell_type": "code",
      "source": [
        "import numpy as np"
      ],
      "metadata": {
        "id": "75nrWU6NkI1I"
      },
      "execution_count": null,
      "outputs": []
    },
    {
      "cell_type": "code",
      "source": [
        "import matplotlib.pyplot as plt"
      ],
      "metadata": {
        "id": "vyVki7i3lLnA"
      },
      "execution_count": null,
      "outputs": []
    },
    {
      "cell_type": "code",
      "source": [
        "N=300\n",
        "D=2\n",
        "K=3"
      ],
      "metadata": {
        "id": "3Ov1d9QtlRhC"
      },
      "execution_count": null,
      "outputs": []
    },
    {
      "cell_type": "code",
      "source": [
        "means = np.array([\n",
        "    [0,0],\n",
        "    [0,5],\n",
        "    [5,5],\n",
        "])"
      ],
      "metadata": {
        "id": "2OkGrM37lVkD"
      },
      "execution_count": null,
      "outputs": []
    },
    {
      "cell_type": "code",
      "source": [
        "means"
      ],
      "metadata": {
        "colab": {
          "base_uri": "https://localhost:8080/"
        },
        "id": "kDKuCRCQlk-J",
        "outputId": "71451a89-6a91-4b6d-9a23-9eabb0333091"
      },
      "execution_count": null,
      "outputs": [
        {
          "output_type": "execute_result",
          "data": {
            "text/plain": [
              "array([[0, 0],\n",
              "       [0, 5],\n",
              "       [5, 5]])"
            ]
          },
          "metadata": {},
          "execution_count": 8
        }
      ]
    },
    {
      "cell_type": "code",
      "source": [
        "X = np.zeros((N,D))"
      ],
      "metadata": {
        "id": "JdAr81mslu9K"
      },
      "execution_count": null,
      "outputs": []
    },
    {
      "cell_type": "code",
      "source": [
        "X"
      ],
      "metadata": {
        "colab": {
          "base_uri": "https://localhost:8080/"
        },
        "id": "was3iGjfl8Ff",
        "outputId": "073f85c2-762f-4671-b815-ab1c9f9f414d"
      },
      "execution_count": null,
      "outputs": [
        {
          "output_type": "execute_result",
          "data": {
            "text/plain": [
              "array([[0., 0.],\n",
              "       [0., 0.],\n",
              "       [0., 0.],\n",
              "       [0., 0.],\n",
              "       [0., 0.],\n",
              "       [0., 0.],\n",
              "       [0., 0.],\n",
              "       [0., 0.],\n",
              "       [0., 0.],\n",
              "       [0., 0.],\n",
              "       [0., 0.],\n",
              "       [0., 0.],\n",
              "       [0., 0.],\n",
              "       [0., 0.],\n",
              "       [0., 0.],\n",
              "       [0., 0.],\n",
              "       [0., 0.],\n",
              "       [0., 0.],\n",
              "       [0., 0.],\n",
              "       [0., 0.],\n",
              "       [0., 0.],\n",
              "       [0., 0.],\n",
              "       [0., 0.],\n",
              "       [0., 0.],\n",
              "       [0., 0.],\n",
              "       [0., 0.],\n",
              "       [0., 0.],\n",
              "       [0., 0.],\n",
              "       [0., 0.],\n",
              "       [0., 0.],\n",
              "       [0., 0.],\n",
              "       [0., 0.],\n",
              "       [0., 0.],\n",
              "       [0., 0.],\n",
              "       [0., 0.],\n",
              "       [0., 0.],\n",
              "       [0., 0.],\n",
              "       [0., 0.],\n",
              "       [0., 0.],\n",
              "       [0., 0.],\n",
              "       [0., 0.],\n",
              "       [0., 0.],\n",
              "       [0., 0.],\n",
              "       [0., 0.],\n",
              "       [0., 0.],\n",
              "       [0., 0.],\n",
              "       [0., 0.],\n",
              "       [0., 0.],\n",
              "       [0., 0.],\n",
              "       [0., 0.],\n",
              "       [0., 0.],\n",
              "       [0., 0.],\n",
              "       [0., 0.],\n",
              "       [0., 0.],\n",
              "       [0., 0.],\n",
              "       [0., 0.],\n",
              "       [0., 0.],\n",
              "       [0., 0.],\n",
              "       [0., 0.],\n",
              "       [0., 0.],\n",
              "       [0., 0.],\n",
              "       [0., 0.],\n",
              "       [0., 0.],\n",
              "       [0., 0.],\n",
              "       [0., 0.],\n",
              "       [0., 0.],\n",
              "       [0., 0.],\n",
              "       [0., 0.],\n",
              "       [0., 0.],\n",
              "       [0., 0.],\n",
              "       [0., 0.],\n",
              "       [0., 0.],\n",
              "       [0., 0.],\n",
              "       [0., 0.],\n",
              "       [0., 0.],\n",
              "       [0., 0.],\n",
              "       [0., 0.],\n",
              "       [0., 0.],\n",
              "       [0., 0.],\n",
              "       [0., 0.],\n",
              "       [0., 0.],\n",
              "       [0., 0.],\n",
              "       [0., 0.],\n",
              "       [0., 0.],\n",
              "       [0., 0.],\n",
              "       [0., 0.],\n",
              "       [0., 0.],\n",
              "       [0., 0.],\n",
              "       [0., 0.],\n",
              "       [0., 0.],\n",
              "       [0., 0.],\n",
              "       [0., 0.],\n",
              "       [0., 0.],\n",
              "       [0., 0.],\n",
              "       [0., 0.],\n",
              "       [0., 0.],\n",
              "       [0., 0.],\n",
              "       [0., 0.],\n",
              "       [0., 0.],\n",
              "       [0., 0.],\n",
              "       [0., 0.],\n",
              "       [0., 0.],\n",
              "       [0., 0.],\n",
              "       [0., 0.],\n",
              "       [0., 0.],\n",
              "       [0., 0.],\n",
              "       [0., 0.],\n",
              "       [0., 0.],\n",
              "       [0., 0.],\n",
              "       [0., 0.],\n",
              "       [0., 0.],\n",
              "       [0., 0.],\n",
              "       [0., 0.],\n",
              "       [0., 0.],\n",
              "       [0., 0.],\n",
              "       [0., 0.],\n",
              "       [0., 0.],\n",
              "       [0., 0.],\n",
              "       [0., 0.],\n",
              "       [0., 0.],\n",
              "       [0., 0.],\n",
              "       [0., 0.],\n",
              "       [0., 0.],\n",
              "       [0., 0.],\n",
              "       [0., 0.],\n",
              "       [0., 0.],\n",
              "       [0., 0.],\n",
              "       [0., 0.],\n",
              "       [0., 0.],\n",
              "       [0., 0.],\n",
              "       [0., 0.],\n",
              "       [0., 0.],\n",
              "       [0., 0.],\n",
              "       [0., 0.],\n",
              "       [0., 0.],\n",
              "       [0., 0.],\n",
              "       [0., 0.],\n",
              "       [0., 0.],\n",
              "       [0., 0.],\n",
              "       [0., 0.],\n",
              "       [0., 0.],\n",
              "       [0., 0.],\n",
              "       [0., 0.],\n",
              "       [0., 0.],\n",
              "       [0., 0.],\n",
              "       [0., 0.],\n",
              "       [0., 0.],\n",
              "       [0., 0.],\n",
              "       [0., 0.],\n",
              "       [0., 0.],\n",
              "       [0., 0.],\n",
              "       [0., 0.],\n",
              "       [0., 0.],\n",
              "       [0., 0.],\n",
              "       [0., 0.],\n",
              "       [0., 0.],\n",
              "       [0., 0.],\n",
              "       [0., 0.],\n",
              "       [0., 0.],\n",
              "       [0., 0.],\n",
              "       [0., 0.],\n",
              "       [0., 0.],\n",
              "       [0., 0.],\n",
              "       [0., 0.],\n",
              "       [0., 0.],\n",
              "       [0., 0.],\n",
              "       [0., 0.],\n",
              "       [0., 0.],\n",
              "       [0., 0.],\n",
              "       [0., 0.],\n",
              "       [0., 0.],\n",
              "       [0., 0.],\n",
              "       [0., 0.],\n",
              "       [0., 0.],\n",
              "       [0., 0.],\n",
              "       [0., 0.],\n",
              "       [0., 0.],\n",
              "       [0., 0.],\n",
              "       [0., 0.],\n",
              "       [0., 0.],\n",
              "       [0., 0.],\n",
              "       [0., 0.],\n",
              "       [0., 0.],\n",
              "       [0., 0.],\n",
              "       [0., 0.],\n",
              "       [0., 0.],\n",
              "       [0., 0.],\n",
              "       [0., 0.],\n",
              "       [0., 0.],\n",
              "       [0., 0.],\n",
              "       [0., 0.],\n",
              "       [0., 0.],\n",
              "       [0., 0.],\n",
              "       [0., 0.],\n",
              "       [0., 0.],\n",
              "       [0., 0.],\n",
              "       [0., 0.],\n",
              "       [0., 0.],\n",
              "       [0., 0.],\n",
              "       [0., 0.],\n",
              "       [0., 0.],\n",
              "       [0., 0.],\n",
              "       [0., 0.],\n",
              "       [0., 0.],\n",
              "       [0., 0.],\n",
              "       [0., 0.],\n",
              "       [0., 0.],\n",
              "       [0., 0.],\n",
              "       [0., 0.],\n",
              "       [0., 0.],\n",
              "       [0., 0.],\n",
              "       [0., 0.],\n",
              "       [0., 0.],\n",
              "       [0., 0.],\n",
              "       [0., 0.],\n",
              "       [0., 0.],\n",
              "       [0., 0.],\n",
              "       [0., 0.],\n",
              "       [0., 0.],\n",
              "       [0., 0.],\n",
              "       [0., 0.],\n",
              "       [0., 0.],\n",
              "       [0., 0.],\n",
              "       [0., 0.],\n",
              "       [0., 0.],\n",
              "       [0., 0.],\n",
              "       [0., 0.],\n",
              "       [0., 0.],\n",
              "       [0., 0.],\n",
              "       [0., 0.],\n",
              "       [0., 0.],\n",
              "       [0., 0.],\n",
              "       [0., 0.],\n",
              "       [0., 0.],\n",
              "       [0., 0.],\n",
              "       [0., 0.],\n",
              "       [0., 0.],\n",
              "       [0., 0.],\n",
              "       [0., 0.],\n",
              "       [0., 0.],\n",
              "       [0., 0.],\n",
              "       [0., 0.],\n",
              "       [0., 0.],\n",
              "       [0., 0.],\n",
              "       [0., 0.],\n",
              "       [0., 0.],\n",
              "       [0., 0.],\n",
              "       [0., 0.],\n",
              "       [0., 0.],\n",
              "       [0., 0.],\n",
              "       [0., 0.],\n",
              "       [0., 0.],\n",
              "       [0., 0.],\n",
              "       [0., 0.],\n",
              "       [0., 0.],\n",
              "       [0., 0.],\n",
              "       [0., 0.],\n",
              "       [0., 0.],\n",
              "       [0., 0.],\n",
              "       [0., 0.],\n",
              "       [0., 0.],\n",
              "       [0., 0.],\n",
              "       [0., 0.],\n",
              "       [0., 0.],\n",
              "       [0., 0.],\n",
              "       [0., 0.],\n",
              "       [0., 0.],\n",
              "       [0., 0.],\n",
              "       [0., 0.],\n",
              "       [0., 0.],\n",
              "       [0., 0.],\n",
              "       [0., 0.],\n",
              "       [0., 0.],\n",
              "       [0., 0.],\n",
              "       [0., 0.],\n",
              "       [0., 0.],\n",
              "       [0., 0.],\n",
              "       [0., 0.],\n",
              "       [0., 0.],\n",
              "       [0., 0.],\n",
              "       [0., 0.],\n",
              "       [0., 0.],\n",
              "       [0., 0.],\n",
              "       [0., 0.],\n",
              "       [0., 0.],\n",
              "       [0., 0.],\n",
              "       [0., 0.],\n",
              "       [0., 0.],\n",
              "       [0., 0.],\n",
              "       [0., 0.],\n",
              "       [0., 0.],\n",
              "       [0., 0.],\n",
              "       [0., 0.],\n",
              "       [0., 0.],\n",
              "       [0., 0.],\n",
              "       [0., 0.],\n",
              "       [0., 0.],\n",
              "       [0., 0.],\n",
              "       [0., 0.],\n",
              "       [0., 0.]])"
            ]
          },
          "metadata": {},
          "execution_count": 10
        }
      ]
    },
    {
      "cell_type": "code",
      "source": [
        "X[:100, :] = np.random.randn(100, D)"
      ],
      "metadata": {
        "id": "4qaY8Lbvl9KK"
      },
      "execution_count": null,
      "outputs": []
    },
    {
      "cell_type": "code",
      "source": [
        "X[:100, :]"
      ],
      "metadata": {
        "colab": {
          "base_uri": "https://localhost:8080/"
        },
        "id": "WsBHNDYYmTQv",
        "outputId": "53c26353-3df2-487c-e778-a21cda5b4569"
      },
      "execution_count": null,
      "outputs": [
        {
          "output_type": "execute_result",
          "data": {
            "text/plain": [
              "array([[-0.60788454,  0.6129161 ],\n",
              "       [ 0.21692122,  0.27899569],\n",
              "       [-0.29176158,  0.21057804],\n",
              "       [-0.97751938, -0.54694954],\n",
              "       [ 0.01772161, -0.42770549],\n",
              "       [ 0.33721238, -0.65010236],\n",
              "       [-1.49877494, -0.69135401],\n",
              "       [-0.79572622,  0.92053005],\n",
              "       [-0.74674825, -0.87705891],\n",
              "       [ 0.26620411, -0.07550063],\n",
              "       [ 1.23948258, -0.16980053],\n",
              "       [ 0.39045048, -1.81133054],\n",
              "       [ 0.22414154,  0.21799002],\n",
              "       [ 1.6497348 , -0.95959175],\n",
              "       [ 0.29265637,  0.60972578],\n",
              "       [-0.91270166, -0.99723514],\n",
              "       [ 0.27975896, -0.34645755],\n",
              "       [ 0.53448779,  0.10980586],\n",
              "       [-0.2963849 , -1.29200168],\n",
              "       [-1.48420541,  1.38316391],\n",
              "       [ 0.06445034, -1.41757688],\n",
              "       [-1.24838977,  0.64929484],\n",
              "       [-0.19717467,  0.71134201],\n",
              "       [-2.47649609, -0.09100436],\n",
              "       [-0.46340337, -1.0817342 ],\n",
              "       [-0.82998465, -0.47905016],\n",
              "       [-0.6218621 ,  1.15316134],\n",
              "       [ 1.3117308 ,  0.03734441],\n",
              "       [-0.39467384, -1.99778988],\n",
              "       [ 0.70658524,  0.78210203],\n",
              "       [-1.00903552, -1.43284645],\n",
              "       [-1.17150872, -0.06067977],\n",
              "       [-1.72094998,  0.80947432],\n",
              "       [ 0.84830928,  0.84904697],\n",
              "       [ 1.04048673,  0.45336518],\n",
              "       [ 0.0702327 , -0.71546077],\n",
              "       [ 0.95467836, -0.56159756],\n",
              "       [ 0.56996313, -0.29487534],\n",
              "       [ 0.34963657,  0.89964399],\n",
              "       [ 1.44942782,  0.92901748],\n",
              "       [-0.74832901,  0.06250833],\n",
              "       [ 2.21627427,  0.77816008],\n",
              "       [ 0.29307564, -0.39724288],\n",
              "       [-0.8636268 ,  0.24257776],\n",
              "       [-0.89470369,  1.10367931],\n",
              "       [-0.44373594,  1.34985488],\n",
              "       [ 0.16750238, -1.48936898],\n",
              "       [-2.50729373, -0.80788396],\n",
              "       [ 0.03297995,  1.07773222],\n",
              "       [-0.66139253, -0.83356934],\n",
              "       [-0.10945551, -0.70630508],\n",
              "       [-0.44491909,  0.05080948],\n",
              "       [ 0.50943264, -0.41037364],\n",
              "       [ 0.49381304,  0.18162357],\n",
              "       [ 1.22981863,  0.85689425],\n",
              "       [-0.70087865, -0.38686918],\n",
              "       [-2.51144857, -0.0449904 ],\n",
              "       [-1.39568067,  1.35019477],\n",
              "       [ 0.37621527, -0.14887016],\n",
              "       [-0.42386658,  0.88309222],\n",
              "       [-0.06044102,  0.52279758],\n",
              "       [-1.24521341, -0.15410727],\n",
              "       [ 0.72333956, -1.30232797],\n",
              "       [ 0.13484271, -0.49749229],\n",
              "       [ 0.86972599,  1.95328528],\n",
              "       [ 0.27273522, -0.78512313],\n",
              "       [ 1.00222404, -0.88540653],\n",
              "       [ 0.64822767, -1.40872563],\n",
              "       [-0.0112467 , -0.64298329],\n",
              "       [ 1.41467487,  1.85197656],\n",
              "       [ 0.25663263,  0.98272493],\n",
              "       [ 0.79641944,  0.99699655],\n",
              "       [ 1.37649464, -2.77866683],\n",
              "       [-0.49499705,  0.52297764],\n",
              "       [ 0.20135085,  2.43672501],\n",
              "       [-1.45970265,  0.92507646],\n",
              "       [-1.20625367,  1.19322551],\n",
              "       [ 1.08022226, -0.35907262],\n",
              "       [-0.92002955, -0.68049426],\n",
              "       [-0.31090455,  0.15356485],\n",
              "       [-0.43636705, -0.51969494],\n",
              "       [-0.93067747,  0.61175167],\n",
              "       [ 1.08022429, -0.65443795],\n",
              "       [ 0.3668319 ,  1.84374891],\n",
              "       [ 0.60536284,  1.19535807],\n",
              "       [ 2.55094146,  0.75732065],\n",
              "       [-0.58694731, -1.27767232],\n",
              "       [-0.30983735, -0.40119328],\n",
              "       [-0.77243773, -1.87513956],\n",
              "       [-0.09920047,  0.13706324],\n",
              "       [ 0.26746881,  0.97291716],\n",
              "       [-0.2871893 ,  0.68412423],\n",
              "       [-1.11426169, -1.34226929],\n",
              "       [ 0.4603012 ,  1.36531187],\n",
              "       [ 0.07384767, -0.29452167],\n",
              "       [ 1.0916974 ,  0.30879542],\n",
              "       [ 0.16396158, -0.4264968 ],\n",
              "       [-1.93835001,  0.74490257],\n",
              "       [-0.63019862, -1.82664624],\n",
              "       [ 1.633622  ,  1.08327987]])"
            ]
          },
          "metadata": {},
          "execution_count": 12
        }
      ]
    },
    {
      "cell_type": "code",
      "source": [
        "X[:100, :]+means[0]"
      ],
      "metadata": {
        "colab": {
          "base_uri": "https://localhost:8080/"
        },
        "id": "4gIICK0CmZuI",
        "outputId": "18a96cc0-2e13-4de8-fe18-ad3b8a4726bb"
      },
      "execution_count": null,
      "outputs": [
        {
          "output_type": "execute_result",
          "data": {
            "text/plain": [
              "array([[-0.60788454,  0.6129161 ],\n",
              "       [ 0.21692122,  0.27899569],\n",
              "       [-0.29176158,  0.21057804],\n",
              "       [-0.97751938, -0.54694954],\n",
              "       [ 0.01772161, -0.42770549],\n",
              "       [ 0.33721238, -0.65010236],\n",
              "       [-1.49877494, -0.69135401],\n",
              "       [-0.79572622,  0.92053005],\n",
              "       [-0.74674825, -0.87705891],\n",
              "       [ 0.26620411, -0.07550063],\n",
              "       [ 1.23948258, -0.16980053],\n",
              "       [ 0.39045048, -1.81133054],\n",
              "       [ 0.22414154,  0.21799002],\n",
              "       [ 1.6497348 , -0.95959175],\n",
              "       [ 0.29265637,  0.60972578],\n",
              "       [-0.91270166, -0.99723514],\n",
              "       [ 0.27975896, -0.34645755],\n",
              "       [ 0.53448779,  0.10980586],\n",
              "       [-0.2963849 , -1.29200168],\n",
              "       [-1.48420541,  1.38316391],\n",
              "       [ 0.06445034, -1.41757688],\n",
              "       [-1.24838977,  0.64929484],\n",
              "       [-0.19717467,  0.71134201],\n",
              "       [-2.47649609, -0.09100436],\n",
              "       [-0.46340337, -1.0817342 ],\n",
              "       [-0.82998465, -0.47905016],\n",
              "       [-0.6218621 ,  1.15316134],\n",
              "       [ 1.3117308 ,  0.03734441],\n",
              "       [-0.39467384, -1.99778988],\n",
              "       [ 0.70658524,  0.78210203],\n",
              "       [-1.00903552, -1.43284645],\n",
              "       [-1.17150872, -0.06067977],\n",
              "       [-1.72094998,  0.80947432],\n",
              "       [ 0.84830928,  0.84904697],\n",
              "       [ 1.04048673,  0.45336518],\n",
              "       [ 0.0702327 , -0.71546077],\n",
              "       [ 0.95467836, -0.56159756],\n",
              "       [ 0.56996313, -0.29487534],\n",
              "       [ 0.34963657,  0.89964399],\n",
              "       [ 1.44942782,  0.92901748],\n",
              "       [-0.74832901,  0.06250833],\n",
              "       [ 2.21627427,  0.77816008],\n",
              "       [ 0.29307564, -0.39724288],\n",
              "       [-0.8636268 ,  0.24257776],\n",
              "       [-0.89470369,  1.10367931],\n",
              "       [-0.44373594,  1.34985488],\n",
              "       [ 0.16750238, -1.48936898],\n",
              "       [-2.50729373, -0.80788396],\n",
              "       [ 0.03297995,  1.07773222],\n",
              "       [-0.66139253, -0.83356934],\n",
              "       [-0.10945551, -0.70630508],\n",
              "       [-0.44491909,  0.05080948],\n",
              "       [ 0.50943264, -0.41037364],\n",
              "       [ 0.49381304,  0.18162357],\n",
              "       [ 1.22981863,  0.85689425],\n",
              "       [-0.70087865, -0.38686918],\n",
              "       [-2.51144857, -0.0449904 ],\n",
              "       [-1.39568067,  1.35019477],\n",
              "       [ 0.37621527, -0.14887016],\n",
              "       [-0.42386658,  0.88309222],\n",
              "       [-0.06044102,  0.52279758],\n",
              "       [-1.24521341, -0.15410727],\n",
              "       [ 0.72333956, -1.30232797],\n",
              "       [ 0.13484271, -0.49749229],\n",
              "       [ 0.86972599,  1.95328528],\n",
              "       [ 0.27273522, -0.78512313],\n",
              "       [ 1.00222404, -0.88540653],\n",
              "       [ 0.64822767, -1.40872563],\n",
              "       [-0.0112467 , -0.64298329],\n",
              "       [ 1.41467487,  1.85197656],\n",
              "       [ 0.25663263,  0.98272493],\n",
              "       [ 0.79641944,  0.99699655],\n",
              "       [ 1.37649464, -2.77866683],\n",
              "       [-0.49499705,  0.52297764],\n",
              "       [ 0.20135085,  2.43672501],\n",
              "       [-1.45970265,  0.92507646],\n",
              "       [-1.20625367,  1.19322551],\n",
              "       [ 1.08022226, -0.35907262],\n",
              "       [-0.92002955, -0.68049426],\n",
              "       [-0.31090455,  0.15356485],\n",
              "       [-0.43636705, -0.51969494],\n",
              "       [-0.93067747,  0.61175167],\n",
              "       [ 1.08022429, -0.65443795],\n",
              "       [ 0.3668319 ,  1.84374891],\n",
              "       [ 0.60536284,  1.19535807],\n",
              "       [ 2.55094146,  0.75732065],\n",
              "       [-0.58694731, -1.27767232],\n",
              "       [-0.30983735, -0.40119328],\n",
              "       [-0.77243773, -1.87513956],\n",
              "       [-0.09920047,  0.13706324],\n",
              "       [ 0.26746881,  0.97291716],\n",
              "       [-0.2871893 ,  0.68412423],\n",
              "       [-1.11426169, -1.34226929],\n",
              "       [ 0.4603012 ,  1.36531187],\n",
              "       [ 0.07384767, -0.29452167],\n",
              "       [ 1.0916974 ,  0.30879542],\n",
              "       [ 0.16396158, -0.4264968 ],\n",
              "       [-1.93835001,  0.74490257],\n",
              "       [-0.63019862, -1.82664624],\n",
              "       [ 1.633622  ,  1.08327987]])"
            ]
          },
          "metadata": {},
          "execution_count": 13
        }
      ]
    },
    {
      "cell_type": "code",
      "source": [
        "X[100:200, :] = np.random.randn(100,D) + means[1]"
      ],
      "metadata": {
        "id": "2KwjPSuAmyFe"
      },
      "execution_count": null,
      "outputs": []
    },
    {
      "cell_type": "code",
      "source": [
        "X[200:,:]=np.random.randn(100,D)+means[2]"
      ],
      "metadata": {
        "id": "FeEI0DLnnMwC"
      },
      "execution_count": null,
      "outputs": []
    },
    {
      "cell_type": "code",
      "source": [
        "Y=np.zeros(N)"
      ],
      "metadata": {
        "id": "DjfzLYWcnWwm"
      },
      "execution_count": null,
      "outputs": []
    },
    {
      "cell_type": "code",
      "source": [
        "Y"
      ],
      "metadata": {
        "colab": {
          "base_uri": "https://localhost:8080/"
        },
        "id": "UoWEgOrmnb_a",
        "outputId": "25bb0bbc-e80a-49d3-84cf-0bfbd83649dd"
      },
      "execution_count": null,
      "outputs": [
        {
          "output_type": "execute_result",
          "data": {
            "text/plain": [
              "array([0., 0., 0., 0., 0., 0., 0., 0., 0., 0., 0., 0., 0., 0., 0., 0., 0.,\n",
              "       0., 0., 0., 0., 0., 0., 0., 0., 0., 0., 0., 0., 0., 0., 0., 0., 0.,\n",
              "       0., 0., 0., 0., 0., 0., 0., 0., 0., 0., 0., 0., 0., 0., 0., 0., 0.,\n",
              "       0., 0., 0., 0., 0., 0., 0., 0., 0., 0., 0., 0., 0., 0., 0., 0., 0.,\n",
              "       0., 0., 0., 0., 0., 0., 0., 0., 0., 0., 0., 0., 0., 0., 0., 0., 0.,\n",
              "       0., 0., 0., 0., 0., 0., 0., 0., 0., 0., 0., 0., 0., 0., 0., 0., 0.,\n",
              "       0., 0., 0., 0., 0., 0., 0., 0., 0., 0., 0., 0., 0., 0., 0., 0., 0.,\n",
              "       0., 0., 0., 0., 0., 0., 0., 0., 0., 0., 0., 0., 0., 0., 0., 0., 0.,\n",
              "       0., 0., 0., 0., 0., 0., 0., 0., 0., 0., 0., 0., 0., 0., 0., 0., 0.,\n",
              "       0., 0., 0., 0., 0., 0., 0., 0., 0., 0., 0., 0., 0., 0., 0., 0., 0.,\n",
              "       0., 0., 0., 0., 0., 0., 0., 0., 0., 0., 0., 0., 0., 0., 0., 0., 0.,\n",
              "       0., 0., 0., 0., 0., 0., 0., 0., 0., 0., 0., 0., 0., 0., 0., 0., 0.,\n",
              "       0., 0., 0., 0., 0., 0., 0., 0., 0., 0., 0., 0., 0., 0., 0., 0., 0.,\n",
              "       0., 0., 0., 0., 0., 0., 0., 0., 0., 0., 0., 0., 0., 0., 0., 0., 0.,\n",
              "       0., 0., 0., 0., 0., 0., 0., 0., 0., 0., 0., 0., 0., 0., 0., 0., 0.,\n",
              "       0., 0., 0., 0., 0., 0., 0., 0., 0., 0., 0., 0., 0., 0., 0., 0., 0.,\n",
              "       0., 0., 0., 0., 0., 0., 0., 0., 0., 0., 0., 0., 0., 0., 0., 0., 0.,\n",
              "       0., 0., 0., 0., 0., 0., 0., 0., 0., 0., 0.])"
            ]
          },
          "metadata": {},
          "execution_count": 17
        }
      ]
    },
    {
      "cell_type": "code",
      "source": [
        "for n in range(N):\n",
        "  closest_k = -1\n",
        "  min_dist=float('inf')\n",
        "  for k in range(K):\n",
        "    d = (X[n] - means[k]).dot(X[n] - means[k])\n",
        "    if d<min_dist:\n",
        "      min_dist = d\n",
        "      closest_k = K\n",
        "Y[n]=closest_k\n"
      ],
      "metadata": {
        "id": "pPZwXz7xndxy"
      },
      "execution_count": null,
      "outputs": []
    },
    {
      "cell_type": "code",
      "source": [
        "plt.scatter(X[:,0], X[:,1], c=Y)"
      ],
      "metadata": {
        "colab": {
          "base_uri": "https://localhost:8080/",
          "height": 448
        },
        "id": "7isM564hooSQ",
        "outputId": "69c9c789-6a57-445d-9f40-58359f2f9ca1"
      },
      "execution_count": null,
      "outputs": [
        {
          "output_type": "execute_result",
          "data": {
            "text/plain": [
              "<matplotlib.collections.PathCollection at 0x7fee82751e80>"
            ]
          },
          "metadata": {},
          "execution_count": 27
        },
        {
          "output_type": "display_data",
          "data": {
            "text/plain": [
              "<Figure size 640x480 with 1 Axes>"
            ],
            "image/png": "[encoded data removed]"
          },
          "metadata": {}
        }
      ]
    },
    {
      "cell_type": "code",
      "source": [],
      "metadata": {
        "id": "CfmGJkzwpFlh"
      },
      "execution_count": null,
      "outputs": []
    }
  ]
}